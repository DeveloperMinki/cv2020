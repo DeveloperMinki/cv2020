{
 "cells": [
  {
   "cell_type": "markdown",
   "metadata": {},
   "source": [
    "# 1.4.8 Image Pyramids"
   ]
  },
  {
   "cell_type": "code",
   "execution_count": 1,
   "metadata": {},
   "outputs": [],
   "source": [
    "import cv2\n",
    "import numpy as np\n",
    "from matplotlib import pyplot as plt\n",
    "img = cv2.imread('sIMG_8253.JPG',0)\n",
    "\n",
    "lower_reso = cv2.pyrDown(img)  ## 이미지 크기 줄이기\n",
    "#higher_reso2 = cv2.pyrUp(lower_reso)\n",
    "#edges = cv2.Canny(higher_reso2,100,200)\n",
    "edges1 = cv2.Canny(lower_reso,100,200)\n",
    "higher_reso2 = cv2.pyrUp(edges1) ## 이미지 크기 늘리기\n",
    "cv2.imshow('image',lower_reso) # 줄인거 \n",
    "cv2.imshow('image1',higher_reso2) \n",
    "#cv2.imshow('Highe',edges)\n",
    "cv2.imshow('LOW',edges1)\n",
    "\n",
    "cv2.waitKey(0)\n",
    "\n",
    "cv2.destroyAllWindows()  ## 난잡함을 줄여주는역할"
   ]
  },
  {
   "cell_type": "code",
   "execution_count": null,
   "metadata": {},
   "outputs": [],
   "source": []
  }
 ],
 "metadata": {
  "kernelspec": {
   "display_name": "Python 3",
   "language": "python",
   "name": "python3"
  },
  "language_info": {
   "codemirror_mode": {
    "name": "ipython",
    "version": 3
   },
   "file_extension": ".py",
   "mimetype": "text/x-python",
   "name": "python",
   "nbconvert_exporter": "python",
   "pygments_lexer": "ipython3",
   "version": "3.8.3"
  }
 },
 "nbformat": 4,
 "nbformat_minor": 4
}
