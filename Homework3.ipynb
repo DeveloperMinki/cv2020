{
 "cells": [
  {
   "cell_type": "markdown",
   "metadata": {},
   "source": [
    "# Applying adaptive thresholding (cam)"
   ]
  },
  {
   "cell_type": "code",
   "execution_count": 3,
   "metadata": {},
   "outputs": [],
   "source": [
    "import numpy as np\n",
    "import cv2\n",
    "cap = cv2.VideoCapture(1)\n",
    "\n",
    "while True:\n",
    "    ret, frame = cap.read()\n",
    "    #roi = frame[0:500, 0:500]\n",
    "    gray = cv2.cvtColor(frame, cv2.COLOR_BGR2GRAY)\n",
    "    gray_blur = cv2.GaussianBlur(gray, (15, 15), 0)\n",
    "    thresh = cv2.adaptiveThreshold(gray_blur, 255, cv2.ADAPTIVE_THRESH_GAUSSIAN_C,cv2.THRESH_BINARY_INV, 11, 1)\n",
    "    cv2.imshow('frame',frame)\n",
    "    cv2.imshow('gray',gray)\n",
    "    cv2.imshow('gray_blur',gray_blur)\n",
    "    cv2.imshow('thresh',thresh)\n",
    "    if cv2.waitKey(2) & 0xFF == 27:\n",
    "        break\n",
    "cap.release()\n",
    "cv2.destroyAllWindows()\n"
   ]
  },
  {
   "cell_type": "markdown",
   "metadata": {},
   "source": [
    "# Morphology (cam)"
   ]
  },
  {
   "cell_type": "code",
   "execution_count": 1,
   "metadata": {},
   "outputs": [],
   "source": [
    "import numpy as np\n",
    "import cv2\n",
    "cap = cv2.VideoCapture(1)\n",
    "\n",
    "while True:\n",
    "    ret, frame = cap.read()\n",
    "    #roi = frame[0:500, 0:500]\n",
    "    gray = cv2.cvtColor(frame, cv2.COLOR_BGR2GRAY)\n",
    "    gray_blur = cv2.GaussianBlur(gray, (15, 15), 0)\n",
    "    thresh = cv2.adaptiveThreshold(gray_blur, 255, cv2.ADAPTIVE_THRESH_GAUSSIAN_C,cv2.THRESH_BINARY_INV, 11, 1)\n",
    "    kernel = np.ones((3, 3), np.uint8)\n",
    "    closing = cv2.morphologyEx(thresh, cv2.MORPH_CLOSE, kernel, iterations=4)\n",
    "    cv2.imshow('frame',frame)\n",
    "    #cv2.imshow('gray',gray)\n",
    "    #cv2.imshow('gray_blur',gray_blur)\n",
    "    #cv2.imshow('thresh',thresh)\n",
    "    cv2.imshow('closing',closing)\n",
    "    if cv2.waitKey(2) & 0xFF == 27:\n",
    "        break\n",
    "cap.release()\n",
    "cv2.destroyAllWindows()"
   ]
  },
  {
   "cell_type": "markdown",
   "metadata": {},
   "source": [
    "# Contour detection and filtering (cam)"
   ]
  },
  {
   "cell_type": "code",
   "execution_count": 67,
   "metadata": {},
   "outputs": [],
   "source": [
    "import numpy as np\n",
    "import cv2\n",
    "cap = cv2.VideoCapture(1)\n",
    "\n",
    "while True:\n",
    "    ret, frame = cap.read()\n",
    "    roi = frame[0:500, 0:500]\n",
    "    gray = cv2.cvtColor(frame, cv2.COLOR_BGR2GRAY)\n",
    "    gray_blur = cv2.GaussianBlur(gray, (15, 15), 0)\n",
    "    thresh = cv2.adaptiveThreshold(gray_blur, 255, cv2.ADAPTIVE_THRESH_GAUSSIAN_C,cv2.THRESH_BINARY_INV, 11, 1)\n",
    "    kernel = np.ones((3, 3), np.uint8)\n",
    "    closing = cv2.morphologyEx(thresh, cv2.MORPH_CLOSE, kernel, iterations=4)\n",
    "    cont_img = closing.copy()\n",
    "    contours, hierarchy = cv2.findContours(cont_img, cv2.RETR_EXTERNAL,cv2.CHAIN_APPROX_SIMPLE)\n",
    "    \n",
    "    for cnt in contours:\n",
    "        area = cv2.contourArea(cnt)\n",
    "        if area < 1500 or area > 4000:\n",
    "            continue\n",
    "        if len(cnt) < 5:\n",
    "            continue\n",
    "        ellipse = cv2.fitEllipse(cnt)\n",
    "        cv2.ellipse(roi, ellipse, (0,255,0), 2)\n",
    "    \n",
    "    cv2.imshow('frame',frame)\n",
    "    #cv2.imshow('gray',gray)\n",
    "    #cv2.imshow('gray_blur',gray_blur)\n",
    "    #cv2.imshow('thresh',thresh)\n",
    "    cv2.imshow('closing',closing)\n",
    "    cv2.imshow('final result', roi)\n",
    "    if cv2.waitKey(2) & 0xFF == 27:\n",
    "        break\n",
    "cap.release()\n",
    "cv2.destroyAllWindows()"
   ]
  },
  {
   "cell_type": "markdown",
   "metadata": {},
   "source": [
    "# Contour detection and filtering (img)"
   ]
  },
  {
   "cell_type": "code",
   "execution_count": 63,
   "metadata": {},
   "outputs": [],
   "source": [
    "import numpy as np\n",
    "import cv2\n",
    "from matplotlib import pyplot as plt\n",
    "img = cv2.imread('sIMG_8253.jpg')\n",
    "#cap = cv2.VideoCapture(1)\n",
    "\n",
    "#while True:\n",
    "#ret, frame = img.read()\n",
    "rows,cols,ch = img.shape\n",
    "roi = img[0:rows, 0:cols]\n",
    "gray = cv2.cvtColor(img, cv2.COLOR_BGR2GRAY)\n",
    "gray_blur = cv2.GaussianBlur(gray, (15, 15), 0)\n",
    "thresh = cv2.adaptiveThreshold(gray_blur, 255, cv2.ADAPTIVE_THRESH_GAUSSIAN_C,cv2.THRESH_BINARY_INV, 11, 1)\n",
    "kernel = np.ones((3, 3), np.uint8)\n",
    "closing = cv2.morphologyEx(thresh, cv2.MORPH_CLOSE, kernel, iterations=4)\n",
    "cont_img = closing.copy()\n",
    "contours, hierarchy = cv2.findContours(cont_img, cv2.RETR_EXTERNAL,cv2.CHAIN_APPROX_SIMPLE)\n",
    "for cnt in contours:\n",
    "    area = cv2.contourArea(cnt)\n",
    "    if area < 100 or area > 300:\n",
    "        continue\n",
    "    if len(cnt) < 5:\n",
    "        continue\n",
    "    ellipse = cv2.fitEllipse(cnt)\n",
    "    cv2.ellipse(roi, ellipse, (0,255,0), 2)    \n",
    "\n",
    "cv2.imshow('img',img)\n",
    "#cv2.imshow('gray',gray)\n",
    "#cv2.imshow('gray_blur',gray_blur)\n",
    "cv2.imshow('thresh',thresh)\n",
    "cv2.imshow('closing',closing)\n",
    "cv2.imshow('final result', roi)\n",
    "#plt.subplot(231),plt.imshow(img),plt.title('Input')\n",
    "#plt.subplot(232),plt.imshow(gray),plt.title('gray')\n",
    "#plt.subplot(233),plt.imshow(gray_blur),plt.title('gray_blur')\n",
    "#plt.subplot(234),plt.imshow(thresh),plt.title('thresh')\n",
    "#plt.subplot(235),plt.imshow(closing),plt.title('closing')\n",
    "#plt.subplot(236),plt.imshow(roi),plt.title('roi')\n",
    "#plt.show()\n",
    "cv2.waitKey(0)\n",
    "cv2.destroyAllWindows()\n",
    "#plt.show()"
   ]
  }
 ],
 "metadata": {
  "kernelspec": {
   "display_name": "Python 3",
   "language": "python",
   "name": "python3"
  },
  "language_info": {
   "codemirror_mode": {
    "name": "ipython",
    "version": 3
   },
   "file_extension": ".py",
   "mimetype": "text/x-python",
   "name": "python",
   "nbconvert_exporter": "python",
   "pygments_lexer": "ipython3",
   "version": "3.8.3"
  }
 },
 "nbformat": 4,
 "nbformat_minor": 4
}


https://github.com/DeveloperMinki/cv2020/issues/1#issue-721479907
