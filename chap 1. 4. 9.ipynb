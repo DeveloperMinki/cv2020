{
 "cells": [
  {
   "cell_type": "code",
   "execution_count": 17,
   "metadata": {},
   "outputs": [],
   "source": [
    "import numpy as np\n",
    "import cv2"
   ]
  },
  {
   "cell_type": "code",
   "execution_count": 28,
   "metadata": {},
   "outputs": [],
   "source": [
    "img = cv2.imread('Djed.jpg')\n",
    "imgray = cv2.cvtColor(img,cv2.COLOR_BGR2GRAY)\n",
    "imgray= 255-imgray#255 빼면 반전   바탕 검정\n",
    "#imgray= imgray#바탕 하얀"
   ]
  },
  {
   "cell_type": "code",
   "execution_count": 29,
   "metadata": {},
   "outputs": [],
   "source": [
    "cv2.imshow('img',img)\n",
    "cv2.imshow('imgray',imgray)\n",
    "cv2.waitKey(0)\n",
    "cv2.destroyAllWindows()"
   ]
  },
  {
   "cell_type": "code",
   "execution_count": 38,
   "metadata": {},
   "outputs": [],
   "source": [
    "ret,th1 = cv2.threshold(imgray,48,255,cv2.THRESH_BINARY)  ## 이미지 스레솔드 "
   ]
  },
  {
   "cell_type": "code",
   "execution_count": 39,
   "metadata": {},
   "outputs": [],
   "source": [
    "cv2.imshow('img',th1)\n",
    "cv2.imshow('imgray',imgray)\n",
    "cv2.waitKey(0)\n",
    "cv2.destroyAllWindows()"
   ]
  },
  {
   "cell_type": "code",
   "execution_count": 42,
   "metadata": {},
   "outputs": [],
   "source": [
    "kernel = np.ones((5,5),np.uint8)\n",
    "closing = cv2.morphologyEx(th1, cv2.MORPH_CLOSE, kernel)##채워 넣기"
   ]
  },
  {
   "cell_type": "code",
   "execution_count": 43,
   "metadata": {},
   "outputs": [],
   "source": [
    "cv2.imshow('img',th1)\n",
    "cv2.imshow('imgray',closing)\n",
    "cv2.waitKey(0)\n",
    "cv2.destroyAllWindows()"
   ]
  },
  {
   "cell_type": "code",
   "execution_count": 44,
   "metadata": {},
   "outputs": [],
   "source": [
    "contours, hierarchy = cv2.findContours(closing,cv2.RETR_TREE,cv2.CHAIN_APPROX_SIMPLE)\n",
    "## 퀀트 찾는 함수 클로징 이미지로"
   ]
  },
  {
   "cell_type": "code",
   "execution_count": 47,
   "metadata": {},
   "outputs": [],
   "source": [
    "img = cv2.drawContours(img, contours, -1, (0,255,0), 3)##원래 이미지워그리기 초록색선"
   ]
  },
  {
   "cell_type": "code",
   "execution_count": 48,
   "metadata": {},
   "outputs": [],
   "source": [
    "cv2.imshow('img',img)\n",
    "cv2.waitKey(0)\n",
    "cv2.destroyAllWindows()"
   ]
  },
  {
   "cell_type": "code",
   "execution_count": 11,
   "metadata": {},
   "outputs": [],
   "source": [
    "#다른 이미지"
   ]
  },
  {
   "cell_type": "code",
   "execution_count": 67,
   "metadata": {},
   "outputs": [],
   "source": [
    "import numpy as np\n",
    "import cv2\n",
    "img = cv2.imread('Canopic-Jar.jpg')\n",
    "imgray = cv2.cvtColor(img,cv2.COLOR_BGR2GRAY)\n",
    "imgray= 255-imgray\n",
    "cv2.imshow('img',img)\n",
    "cv2.imshow('imgray',imgray)\n",
    "cv2.waitKey(0)\n",
    "cv2.destroyAllWindows()"
   ]
  },
  {
   "cell_type": "code",
   "execution_count": 68,
   "metadata": {},
   "outputs": [],
   "source": [
    "ret,th1 = cv2.threshold(imgray,20,255,cv2.THRESH_BINARY)\n",
    "cv2.imshow('img',th1)\n",
    "cv2.imshow('imgray',imgray)\n",
    "cv2.waitKey(0)\n",
    "cv2.destroyAllWindows()"
   ]
  },
  {
   "cell_type": "code",
   "execution_count": 51,
   "metadata": {},
   "outputs": [],
   "source": [
    "kernel = np.ones((5,5),np.uint8)\n",
    "closing = cv2.morphologyEx(th1, cv2.MORPH_CLOSE, kernel)\n",
    "cv2.imshow('img',th1)\n",
    "cv2.imshow('imgray',closing)\n",
    "cv2.waitKey(0)\n",
    "cv2.destroyAllWindows()"
   ]
  },
  {
   "cell_type": "code",
   "execution_count": 52,
   "metadata": {},
   "outputs": [],
   "source": [
    "opening = cv2.morphologyEx(closing, cv2.MORPH_OPEN, kernel)\n",
    "\n",
    "cv2.imshow('img',th1)\n",
    "cv2.imshow('imgray',closing)\n",
    "cv2.waitKey(0)\n",
    "cv2.destroyAllWindows()"
   ]
  },
  {
   "cell_type": "code",
   "execution_count": 53,
   "metadata": {},
   "outputs": [],
   "source": [
    "contours, hierarchy = cv2.findContours(closing,cv2.RETR_TREE,cv2.CHAIN_APPROX_SIMPLE)"
   ]
  },
  {
   "cell_type": "code",
   "execution_count": 54,
   "metadata": {},
   "outputs": [],
   "source": [
    "img = cv2.drawContours(img, contours, -1, (0,255,0), 3)\n",
    "cv2.imshow('img',img)\n",
    "cv2.waitKey(0)\n",
    "cv2.destroyAllWindows()"
   ]
  },
  {
   "cell_type": "code",
   "execution_count": 77,
   "metadata": {},
   "outputs": [],
   "source": [
    "#Important-ancient-Egyptian-symbols-and-meanings"
   ]
  },
  {
   "cell_type": "code",
   "execution_count": 75,
   "metadata": {},
   "outputs": [],
   "source": [
    "import numpy as np\n",
    "import cv2\n",
    "img = cv2.imread('rpi.png')\n",
    "imgray = cv2.cvtColor(img,cv2.COLOR_BGR2GRAY)\n",
    "imgray= 255-imgray  ## 위와 동일\n",
    "cv2.imshow('img',img)\n",
    "cv2.imshow('imgray',imgray)\n",
    "cv2.waitKey(0)\n",
    "cv2.destroyAllWindows()"
   ]
  },
  {
   "cell_type": "code",
   "execution_count": 86,
   "metadata": {},
   "outputs": [],
   "source": [
    "contours, hierarchy = cv2.findContours(imgray,cv2.RETR_TREE,cv2.CHAIN_APPROX_SIMPLE)\n",
    "img = cv2.drawContours(img, contours, 0, (0,255,0), 1) ## 첫번째 것만 그릴때\n",
    "img = cv2.drawContours(img, contours, 1, (0,255,0), 1)## 두번째 것만 그릴때\n",
    "img = cv2.drawContours(img, contours, 2, (0,255,0), 1)#  -1은 전부 다 \n",
    "cv2.imshow('img',img) \n",
    "cv2.imshow('imgray',imgray)\n",
    "cv2.waitKey(0)\n",
    "cv2.destroyAllWindows()"
   ]
  },
  {
   "cell_type": "code",
   "execution_count": 87,
   "metadata": {},
   "outputs": [
    {
     "name": "stdout",
     "output_type": "stream",
     "text": [
      "{'m00': 3189.5, 'm10': 335688.0, 'm01': 1009574.1666666666, 'm20': 36128939.75, 'm11': 106658662.45833333, 'm02': 320589127.25, 'm30': 3971214142.9, 'm21': 11521374952.833334, 'm12': 33996298837.3, 'm03': 102126093111.25, 'mu20': 798501.3289308697, 'mu11': 403157.5641492754, 'mu02': 1028068.1496098042, 'mu30': 640023.1287846565, 'mu21': 599109.1447483301, 'mu12': -239137.93773409724, 'mu03': -987332.9106750488, 'nu20': 0.07849291002354707, 'nu11': 0.03963050437305052, 'nu02': 0.10105939444514456, 'nu30': 0.0011140101615988815, 'nu21': 0.0010427961821064349, 'nu12': -0.0004162382274613377, 'nu03': -0.0017185299185384273}\n"
     ]
    }
   ],
   "source": [
    "import cv2\n",
    "import numpy as np\n",
    "\n",
    "\n",
    "cnt = contours[1]## 오브젝트 다른 위치 \n",
    "M = cv2.moments(cnt) #오브젝트 센터 계산가능\n",
    "print(M)\n"
   ]
  },
  {
   "cell_type": "code",
   "execution_count": 88,
   "metadata": {},
   "outputs": [],
   "source": [
    "cx = int(M['m10']/M['m00']) \n",
    "cy = int(M['m01']/M['m00'])  ## 중심점\n"
   ]
  },
  {
   "cell_type": "code",
   "execution_count": 89,
   "metadata": {},
   "outputs": [],
   "source": [
    "area = cv2.contourArea(cnt)   ## 면적계산"
   ]
  },
  {
   "cell_type": "code",
   "execution_count": 90,
   "metadata": {},
   "outputs": [],
   "source": [
    "perimeter = cv2.arcLength(cnt,True) ##테두리 계산가능\n"
   ]
  },
  {
   "cell_type": "code",
   "execution_count": 91,
   "metadata": {
    "scrolled": true
   },
   "outputs": [
    {
     "data": {
      "text/plain": [
       "array([[[255, 255, 255],\n",
       "        [255, 255, 255],\n",
       "        [255, 255, 255],\n",
       "        ...,\n",
       "        [255, 255, 255],\n",
       "        [255, 255, 255],\n",
       "        [255, 255, 255]],\n",
       "\n",
       "       [[255, 255, 255],\n",
       "        [255, 255, 255],\n",
       "        [255, 255, 255],\n",
       "        ...,\n",
       "        [255, 255, 255],\n",
       "        [255, 255, 255],\n",
       "        [255, 255, 255]],\n",
       "\n",
       "       [[255, 255, 255],\n",
       "        [255, 255, 255],\n",
       "        [255, 255, 255],\n",
       "        ...,\n",
       "        [255, 255, 255],\n",
       "        [255, 255, 255],\n",
       "        [255, 255, 255]],\n",
       "\n",
       "       ...,\n",
       "\n",
       "       [[255, 255, 255],\n",
       "        [255, 255, 255],\n",
       "        [255, 255, 255],\n",
       "        ...,\n",
       "        [255, 255, 255],\n",
       "        [255, 255, 255],\n",
       "        [255, 255, 255]],\n",
       "\n",
       "       [[255, 255, 255],\n",
       "        [255, 255, 255],\n",
       "        [255, 255, 255],\n",
       "        ...,\n",
       "        [255, 255, 255],\n",
       "        [255, 255, 255],\n",
       "        [255, 255, 255]],\n",
       "\n",
       "       [[255, 255, 255],\n",
       "        [255, 255, 255],\n",
       "        [255, 255, 255],\n",
       "        ...,\n",
       "        [255, 255, 255],\n",
       "        [255, 255, 255],\n",
       "        [255, 255, 255]]], dtype=uint8)"
      ]
     },
     "execution_count": 91,
     "metadata": {},
     "output_type": "execute_result"
    }
   ],
   "source": [
    "img = cv2.circle(img,(cx,cy), 5, (0,0,255), -1)  ##반지름 5\n",
    "\n",
    "font = cv2.FONT_HERSHEY_SIMPLEX\n",
    "msg=\"A\"+str(area)+\"L\"+str(perimeter)\n",
    "cv2.putText(img,msg,(cx,cy), font, 1,(0,0,255),2,cv2.LINE_AA) ## 중심찾아서 글쓰기\n",
    "## 면적 "
   ]
  },
  {
   "cell_type": "code",
   "execution_count": 92,
   "metadata": {},
   "outputs": [],
   "source": [
    "cv2.imshow('img',img)\n",
    "cv2.waitKey(0)\n",
    "cv2.destroyAllWindows()   ## 중심 "
   ]
  },
  {
   "cell_type": "code",
   "execution_count": 124,
   "metadata": {},
   "outputs": [],
   "source": [
    "# 근사 시키기"
   ]
  },
  {
   "cell_type": "code",
   "execution_count": 152,
   "metadata": {},
   "outputs": [],
   "source": [
    "import numpy as np\n",
    "import cv2\n",
    "img = cv2.imread('h.jpg')\n",
    "imgray = cv2.cvtColor(img,cv2.COLOR_BGR2GRAY)\n",
    "imgray= 255-imgray#255 빼면 반전   바탕 검정\n",
    "#imgray= imgray#바탕 하얀\n",
    "\n",
    "ret,th1 = cv2.threshold(imgray,8,255,cv2.THRESH_BINARY)  ## 이미지 스레솔드 \n",
    "cv2.imshow('img',img)\n",
    "cv2.imshow('imgray',th1)\n",
    "cv2.waitKey(0)\n",
    "cv2.destroyAllWindows()"
   ]
  },
  {
   "cell_type": "code",
   "execution_count": 153,
   "metadata": {},
   "outputs": [],
   "source": [
    "kernel = np.ones((5,5),np.uint8)\n",
    "opening = cv2.morphologyEx(th1, cv2.MORPH_OPEN, kernel)##  잡티 지우기\n",
    "closing = cv2.morphologyEx(opening, cv2.MORPH_CLOSE, kernel)##다시 채워 넣기\n",
    "cv2.imshow('img',img)\n",
    "cv2.imshow('imgray',closing)\n",
    "cv2.waitKey(0)\n",
    "cv2.destroyAllWindows()"
   ]
  },
  {
   "cell_type": "code",
   "execution_count": 133,
   "metadata": {},
   "outputs": [],
   "source": [
    "contours, hierarchy = cv2.findContours(closing,cv2.RETR_TREE,cv2.CHAIN_APPROX_SIMPLE)\n",
    "## 퀀트 찾는 함수 클로징 이미지로\n",
    "img = cv2.drawContours(img, contours, -1, (0,255,0), 3)\n",
    "cv2.imshow('img',img)\n",
    "cv2.waitKey(0)\n",
    "cv2.destroyAllWindows()"
   ]
  },
  {
   "cell_type": "code",
   "execution_count": 134,
   "metadata": {},
   "outputs": [],
   "source": [
    "cnt = contours[0]\n",
    "epsilon = 0.001*cv2.arcLength(cnt,True) \n",
    "##근사 시킴  0.01 의미 값이 작으면 작을수록 촘촘하게 찾아진다\n",
    "approx = cv2.approxPolyDP(cnt,epsilon,True)\n",
    "\n"
   ]
  },
  {
   "cell_type": "code",
   "execution_count": 135,
   "metadata": {},
   "outputs": [],
   "source": [
    "img = cv2.drawContours(img, [approx], -1, (255,0,0), 3)\n",
    "cv2.imshow('img',img)\n",
    "cv2.waitKey(0)\n",
    "cv2.destroyAllWindows()"
   ]
  },
  {
   "cell_type": "code",
   "execution_count": 136,
   "metadata": {},
   "outputs": [],
   "source": [
    "# Convex Hull 테두리 에서 들어간 부분은 안 표시안됨\n",
    " "
   ]
  },
  {
   "cell_type": "code",
   "execution_count": 137,
   "metadata": {},
   "outputs": [],
   "source": [
    "hull = cv2.convexHull(approx)"
   ]
  },
  {
   "cell_type": "code",
   "execution_count": 140,
   "metadata": {},
   "outputs": [],
   "source": [
    "img = cv2.drawContours(img, [hull], -1, (0,0,255), 3)"
   ]
  },
  {
   "cell_type": "code",
   "execution_count": 141,
   "metadata": {},
   "outputs": [],
   "source": [
    "cv2.imshow('img',img)\n",
    "cv2.waitKey(0)\n",
    "cv2.destroyAllWindows()"
   ]
  },
  {
   "cell_type": "code",
   "execution_count": 145,
   "metadata": {},
   "outputs": [],
   "source": [
    "##오브젝트 있는 부분을 사각형으로 만든다."
   ]
  },
  {
   "cell_type": "code",
   "execution_count": 146,
   "metadata": {},
   "outputs": [],
   "source": [
    "x,y,w,h = cv2.boundingRect(cnt)\n",
    "img = cv2.rectangle(img,(x,y),(x+w,y+h),(0,255,0),2) "
   ]
  },
  {
   "cell_type": "code",
   "execution_count": 147,
   "metadata": {},
   "outputs": [],
   "source": [
    "cv2.imshow('img',img)\n",
    "cv2.waitKey(0)\n",
    "cv2.destroyAllWindows()"
   ]
  },
  {
   "cell_type": "code",
   "execution_count": 148,
   "metadata": {},
   "outputs": [],
   "source": [
    "##  오브젝트 있는부분 을 각도도 있게 사각형 그린다."
   ]
  },
  {
   "cell_type": "code",
   "execution_count": 154,
   "metadata": {},
   "outputs": [],
   "source": [
    "rect = cv2.minAreaRect(cnt)\n",
    "box = cv2.boxPoints(rect)\n",
    "box = np.int0(box)\n",
    "img = cv2.drawContours(img,[box],0,(0,0,255),2)\n"
   ]
  },
  {
   "cell_type": "code",
   "execution_count": 155,
   "metadata": {},
   "outputs": [],
   "source": [
    "cv2.imshow('img',img)\n",
    "cv2.waitKey(0)\n",
    "cv2.destroyAllWindows()"
   ]
  },
  {
   "cell_type": "code",
   "execution_count": 156,
   "metadata": {},
   "outputs": [],
   "source": [
    "dist = cv2.pointPolygonTest(cnt,(50,50),True)  \n",
    "## 퀀트 포인트 가져와서 50 50이라는점이 오브젝트 있는부분 사각형 안인지 아닌지 체크 "
   ]
  },
  {
   "cell_type": "code",
   "execution_count": 158,
   "metadata": {},
   "outputs": [],
   "source": [
    "##ret = cv2.matchShapes(cnt1,cnt2,1,0.0)\n",
    "## 모양이 비슷한지 체크 해주는 거"
   ]
  },
  {
   "cell_type": "code",
   "execution_count": null,
   "metadata": {},
   "outputs": [],
   "source": []
  }
 ],
 "metadata": {
  "kernelspec": {
   "display_name": "Python 3",
   "language": "python",
   "name": "python3"
  },
  "language_info": {
   "codemirror_mode": {
    "name": "ipython",
    "version": 3
   },
   "file_extension": ".py",
   "mimetype": "text/x-python",
   "name": "python",
   "nbconvert_exporter": "python",
   "pygments_lexer": "ipython3",
   "version": "3.8.3"
  }
 },
 "nbformat": 4,
 "nbformat_minor": 4
}
