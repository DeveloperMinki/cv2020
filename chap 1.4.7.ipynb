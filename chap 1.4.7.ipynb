{
 "cells": [
  {
   "cell_type": "markdown",
   "metadata": {},
   "source": [
    "# 1.4.7 Canny Edge Detection"
   ]
  },
  {
   "cell_type": "code",
   "execution_count": 1,
   "metadata": {},
   "outputs": [],
   "source": [
    "# 1 스무딩\n",
    "# 2 그레디언트 계산\n",
    "# 3 넘 멕시먼 스프리션\n",
    "# 4 빠진 부분 매꿔주고\n",
    "# 작은거 큰거 스레솔드\n",
    "\n",
    "import cv2\n",
    "import numpy as np\n",
    "from matplotlib import pyplot as plt\n",
    "\n",
    "def nothing(x):\n",
    "    pass\n",
    "\n",
    "img = cv2.imread('xDSC_0047.JPG',0)\n",
    "cv2.namedWindow('image')\n",
    "\n",
    "cv2.createTrackbar('value', 'image',0,1000,nothing)\n",
    "\n",
    "\n",
    "\n",
    "while(1):\n",
    "    img = cv2.imread('xDSC_0047.JPG')\n",
    "    value = cv2.getTrackbarPos('value','image')\n",
    "    edges = cv2.Canny(img,value+100,value+200)\n",
    "    #subplot(121),plt.imshow(img,cmap = 'gray')\n",
    "    # title('Original Image'), plt.xticks([]), plt.yticks([])\n",
    "    cv2.imshow('image',edges)\n",
    "    k = cv2.waitKey(40) & 0xFF\n",
    "    if k == 27:\n",
    "        break\n",
    "\n",
    "cv2.destroyAllWindows()\n",
    "\n",
    "#경계부분을 정확하게 검출해준다."
   ]
  }
 ],
 "metadata": {
  "kernelspec": {
   "display_name": "Python 3",
   "language": "python",
   "name": "python3"
  },
  "language_info": {
   "codemirror_mode": {
    "name": "ipython",
    "version": 3
   },
   "file_extension": ".py",
   "mimetype": "text/x-python",
   "name": "python",
   "nbconvert_exporter": "python",
   "pygments_lexer": "ipython3",
   "version": "3.8.3"
  }
 },
 "nbformat": 4,
 "nbformat_minor": 4
}
